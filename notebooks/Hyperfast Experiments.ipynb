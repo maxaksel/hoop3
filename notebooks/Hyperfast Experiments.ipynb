{
 "cells": [
  {
   "cell_type": "code",
   "execution_count": 1,
   "id": "02e30ef2",
   "metadata": {},
   "outputs": [],
   "source": [
    "from typing import Tuple\n",
    "import numpy as np\n",
    "from tqdm import tqdm\n",
    "from scipy.optimize import minimize, minimize_scalar\n",
    "import scipy\n",
    "import matplotlib.pyplot as plt\n",
    "from scipy.special import expit"
   ]
  },
  {
   "cell_type": "markdown",
   "id": "67c5abb8",
   "metadata": {},
   "source": [
    "### General Tools"
   ]
  },
  {
   "cell_type": "code",
   "execution_count": 2,
   "id": "e91422d8",
   "metadata": {},
   "outputs": [],
   "source": [
    "def classification_accuracy(labels: np.array, X: np.array, theta: np.array) -> np.array:\n",
    "    \"\"\"\n",
    "\n",
    "    :param labels: data labels in {-1, 1}.\n",
    "    :param X: data matrix with features as columns.\n",
    "    :param theta:\n",
    "    :return:\n",
    "    \"\"\"\n",
    "    labels_hat = sigma(X @ theta)\n",
    "    # print(labels_hat)\n",
    "    labels_hat = (labels_hat >= 0.5).astype(np.float32)\n",
    "    labels_hat = 2*labels_hat - 1  # convert to {-1, 1}\n",
    "    # print(labels)\n",
    "    # print(labels_hat)\n",
    "\n",
    "    diff = labels_hat - labels\n",
    "    num_different = np.count_nonzero(diff)\n",
    "\n",
    "    return (len(labels) - num_different) / len(labels)"
   ]
  },
  {
   "cell_type": "markdown",
   "id": "1b9d427e",
   "metadata": {},
   "source": [
    "### Generate Synthetic Data"
   ]
  },
  {
   "cell_type": "code",
   "execution_count": 3,
   "id": "b5707321",
   "metadata": {},
   "outputs": [],
   "source": [
    "def sigma(x):\n",
    "    # return 1/(1+np.exp(-x))\n",
    "    return expit(x)"
   ]
  },
  {
   "cell_type": "code",
   "execution_count": 4,
   "id": "30440c4c",
   "metadata": {},
   "outputs": [
    {
     "data": {
      "text/plain": [
       "1.0"
      ]
     },
     "execution_count": 4,
     "metadata": {},
     "output_type": "execute_result"
    }
   ],
   "source": [
    "d = 25  # dimension of feature space\n",
    "N = 100  # number of data points\n",
    "X = (2 * (np.random.rand(N, d + 1) - 0.5)).astype(np.float32)  # data matrix (features are columns) randomly generated with uniform distribution [-1, 1]\n",
    "X[:, -1] = 1\n",
    "\n",
    "# for i in range(d):\n",
    "#     X[:, i] = (X[:, i] - np.average(X[:, i])) / np.std(X[:, i]) # normalize across features\n",
    "\n",
    "weights = np.random.rand(d + 1)\n",
    "weights /= np.linalg.norm(weights)  # normalize weights\n",
    "\n",
    "y = 2 * (sigma(X @ weights.T) > 0.5) - 1  # generate labels in {-1, 1}\n",
    "y = y.astype(np.float32)\n",
    "\n",
    "classification_accuracy(y, X, weights)"
   ]
  },
  {
   "cell_type": "code",
   "execution_count": 5,
   "id": "ff839a06",
   "metadata": {},
   "outputs": [
    {
     "data": {
      "text/plain": [
       "array([[ 0.7857542 ,  0.57387674, -0.9954578 , ..., -0.13757947,\n",
       "        -0.28806257,  1.        ],\n",
       "       [-0.09194954,  0.99901   , -0.4332709 , ..., -0.99859583,\n",
       "         0.5618968 ,  1.        ],\n",
       "       [ 0.927574  , -0.6871207 ,  0.3431673 , ...,  0.54042584,\n",
       "         0.78090006,  1.        ],\n",
       "       ...,\n",
       "       [-0.97153085, -0.43217507, -0.23902155, ...,  0.14274243,\n",
       "         0.19929558,  1.        ],\n",
       "       [ 0.65040565,  0.10609035,  0.5549568 , ...,  0.41713485,\n",
       "        -0.133678  ,  1.        ],\n",
       "       [ 0.534135  , -0.18072961, -0.9692842 , ..., -0.9079053 ,\n",
       "         0.16191132,  1.        ]], dtype=float32)"
      ]
     },
     "execution_count": 5,
     "metadata": {},
     "output_type": "execute_result"
    }
   ],
   "source": [
    "X"
   ]
  },
  {
   "cell_type": "markdown",
   "id": "be233ea2",
   "metadata": {},
   "source": [
    "Lipschitz constants"
   ]
  },
  {
   "cell_type": "code",
   "execution_count": 6,
   "id": "a112df09",
   "metadata": {},
   "outputs": [],
   "source": [
    "max_sigma = scipy.linalg.svdvals(X)[0]"
   ]
  },
  {
   "cell_type": "code",
   "execution_count": 7,
   "id": "14d42d84",
   "metadata": {},
   "outputs": [],
   "source": [
    "L1 = (1 / (4 * N)) * max_sigma * max_sigma"
   ]
  },
  {
   "cell_type": "code",
   "execution_count": 8,
   "id": "36c8e39d",
   "metadata": {},
   "outputs": [],
   "source": [
    "L2 = 1 / (6 * np.sqrt(3)) * (1 / N) * np.max(np.linalg.norm(X, axis=0)) * max_sigma  # TODO: Verify"
   ]
  },
  {
   "cell_type": "code",
   "execution_count": 9,
   "id": "4a45458c",
   "metadata": {},
   "outputs": [
    {
     "name": "stdout",
     "output_type": "stream",
     "text": [
      "L1=0.2685403498523465, L2=0.09972932810071589\n"
     ]
    }
   ],
   "source": [
    "print(f\"L1={L1}, L2={L2}\")"
   ]
  },
  {
   "cell_type": "markdown",
   "id": "00a6d293",
   "metadata": {},
   "source": [
    "### Problem Definition"
   ]
  },
  {
   "cell_type": "code",
   "execution_count": 476,
   "id": "f50e7d1b",
   "metadata": {},
   "outputs": [],
   "source": [
    "def log1pexp(x: np.array):\n",
    "    result = np.zeros((len(x),), dtype=np.float32)\n",
    "    for i in range(len(x)):\n",
    "        if x[i] <= -37:\n",
    "            result[i] = np.exp(x[i])\n",
    "        elif x[i] <= 18:\n",
    "            result[i] = np.log1p(np.exp(x[i]))\n",
    "        elif x[i] < 33.3:\n",
    "            result[i] = x[i] + np.exp(-x[i])\n",
    "        else:\n",
    "            result[i] = x[i]\n",
    "    return result"
   ]
  },
  {
   "cell_type": "code",
   "execution_count": 477,
   "id": "c8507192",
   "metadata": {},
   "outputs": [
    {
     "data": {
      "text/plain": [
       "array([1.3132616, 2.126928 , 3.0485873], dtype=float32)"
      ]
     },
     "execution_count": 477,
     "metadata": {},
     "output_type": "execute_result"
    }
   ],
   "source": [
    "log1pexp(np.array([1, 2, 3]))"
   ]
  },
  {
   "cell_type": "code",
   "execution_count": 478,
   "id": "bdca77ce",
   "metadata": {},
   "outputs": [
    {
     "data": {
      "text/plain": [
       "array([1.31326169, 2.12692801, 3.04858735])"
      ]
     },
     "execution_count": 478,
     "metadata": {},
     "output_type": "execute_result"
    }
   ],
   "source": [
    "np.log1p(np.exp(np.array([1, 2, 3])))"
   ]
  },
  {
   "cell_type": "code",
   "execution_count": 548,
   "id": "4ab10476",
   "metadata": {},
   "outputs": [
    {
     "name": "stderr",
     "output_type": "stream",
     "text": [
      "/tmp/ipykernel_197/1342251788.py:1: RuntimeWarning: overflow encountered in exp\n",
      "  np.exp(-y*(X@theta))\n"
     ]
    },
    {
     "data": {
      "text/plain": [
       "array([ 0.,  0., inf,  0., inf, inf, inf, inf, inf,  0.,  0.,  0.,  0.,\n",
       "       inf, inf,  0.,  0.,  0.,  0.,  0.,  0., inf,  0., inf,  0.,  0.,\n",
       "        0., inf,  0.,  0., inf,  0.,  0., inf,  0.,  0., inf,  0.,  0.,\n",
       "        0., inf,  0.,  0., inf,  0., inf, inf,  0.,  0.,  0.,  0.,  0.,\n",
       "        0.,  0.,  0.,  0.,  0.,  0., inf,  0.,  0.,  0.,  0., inf, inf,\n",
       "        0., inf,  0.,  0.,  0.,  0.,  0.,  0.,  0.,  0.,  0.,  0., inf,\n",
       "       inf,  0., inf,  0., inf,  0.,  0.,  0.,  0.,  0.,  0.,  0.,  0.,\n",
       "        0., inf,  0.,  0.,  0.,  0.,  0.,  0.,  0.])"
      ]
     },
     "execution_count": 548,
     "metadata": {},
     "output_type": "execute_result"
    }
   ],
   "source": [
    "np.exp(-y*(X@theta))"
   ]
  },
  {
   "cell_type": "code",
   "execution_count": 550,
   "id": "0060b5d3",
   "metadata": {},
   "outputs": [],
   "source": [
    "def f(theta: np.array) -> float:\n",
    "    # return (1/N) * np.sum(log1pexp(-y*(X@theta)))\n",
    "    return np.sum(np.log(1 + np.exp(-y*(X@theta)))) / N"
   ]
  },
  {
   "cell_type": "code",
   "execution_count": 549,
   "id": "807f6a1c",
   "metadata": {},
   "outputs": [],
   "source": [
    "def f_grad(theta: np.array) -> np.array:\n",
    "    # z = -y * expit(y*(X@theta))\n",
    "    # gradient = X.T @ z / N\n",
    "    z = -y / (1 + np.exp(y*(X@theta)))\n",
    "    gradient = X.T @ z / N\n",
    "    return gradient"
   ]
  },
  {
   "cell_type": "code",
   "execution_count": 551,
   "id": "25569590",
   "metadata": {},
   "outputs": [],
   "source": [
    "def f_hessian(theta: np.array) -> np.array:\n",
    "    H = np.zeros((len(theta), len(theta)))\n",
    "\n",
    "    sigma_xw = sigma(X @ theta)\n",
    "    sigma_lookup = sigma_xw * (1 - sigma_xw)\n",
    "\n",
    "    for j in range(len(theta)):\n",
    "        for k in range(j, len(theta)):\n",
    "            H[j, k] = np.sum(X[:, j] * X[:, k] * sigma_lookup)\n",
    "            H[k, j] = H[j, k]\n",
    "            \n",
    "    return H"
   ]
  },
  {
   "cell_type": "code",
   "execution_count": 642,
   "id": "c9d07221",
   "metadata": {},
   "outputs": [],
   "source": [
    "def f_third_order(theta: np.array, h: np.array) -> np.array:\n",
    "#     one_over_one_plus_exp = 1 / (1 + np.exp(y*(X@theta)))\n",
    "#     third_order_array = (y * np.square(one_over_one_plus_exp)) * (2*np.exp(-2*y*(X@theta)) * one_over_one_plus_exp - np.exp(-y*(X@theta)))\n",
    "#     third_order_array = X.T @ (third_order_array * np.square(np.dot(y @ X, h)))\n",
    "#     third_order_array /= N\n",
    "    third_order_array = np.zeros((len(theta),), dtype=np.float32)\n",
    "    \n",
    "    for i in range(N):\n",
    "        beta_i = np.exp(-y[i]*np.dot(X[i, :], theta))\n",
    "        ai = y[i]*X[i, :]\n",
    "        third_order_array -= ai * np.dot(ai, h)**2 * (1/((1+beta_i)**2)) * (2*beta_i**2 / (1+beta_i) - beta_i)\n",
    "    \n",
    "    return third_order_array"
   ]
  },
  {
   "cell_type": "markdown",
   "id": "d30e8ea7",
   "metadata": {},
   "source": [
    "### Optimization with Newton's Method"
   ]
  },
  {
   "cell_type": "code",
   "execution_count": 643,
   "id": "40940f26",
   "metadata": {},
   "outputs": [],
   "source": [
    "num_iters = 1000"
   ]
  },
  {
   "cell_type": "code",
   "execution_count": 644,
   "id": "ad0a6a47",
   "metadata": {},
   "outputs": [],
   "source": [
    "alpha = 0.01"
   ]
  },
  {
   "cell_type": "code",
   "execution_count": 645,
   "id": "16a44fc6",
   "metadata": {},
   "outputs": [],
   "source": [
    "loss_newton = np.ones((num_iters,), dtype=np.float32)"
   ]
  },
  {
   "cell_type": "code",
   "execution_count": 646,
   "id": "acc99c44",
   "metadata": {},
   "outputs": [],
   "source": [
    "grad_norms_newton = np.ones((num_iters,), dtype=np.float32)"
   ]
  },
  {
   "cell_type": "code",
   "execution_count": 647,
   "id": "9a2623e0",
   "metadata": {},
   "outputs": [],
   "source": [
    "start_theta = np.random.rand(d+1)"
   ]
  },
  {
   "cell_type": "code",
   "execution_count": 648,
   "id": "3472215e",
   "metadata": {},
   "outputs": [],
   "source": [
    "theta = np.copy(start_theta)"
   ]
  },
  {
   "cell_type": "code",
   "execution_count": 649,
   "id": "ce011c6c",
   "metadata": {},
   "outputs": [
    {
     "name": "stderr",
     "output_type": "stream",
     "text": [
      "100%|██████████████████████████████████████████████████████████████████████████████| 1000/1000 [00:01<00:00, 567.47it/s]\n"
     ]
    }
   ],
   "source": [
    "for k in tqdm(range(num_iters)):\n",
    "    # Get local information\n",
    "    loss_newton[k] = f(theta)\n",
    "    grad = f_grad(theta)\n",
    "    grad_norms_newton[k] = np.linalg.norm(grad)\n",
    "    H = f_hessian(theta)\n",
    "    \n",
    "    h = -np.linalg.inv(H) @ grad\n",
    "    # print(h)\n",
    "        \n",
    "    theta += h"
   ]
  },
  {
   "cell_type": "code",
   "execution_count": 650,
   "id": "6d2c3d06",
   "metadata": {},
   "outputs": [
    {
     "data": {
      "text/plain": [
       "[<matplotlib.lines.Line2D at 0x7f50582c05b0>]"
      ]
     },
     "execution_count": 650,
     "metadata": {},
     "output_type": "execute_result"
    },
    {
     "data": {
      "image/png": "[encoded data removed]",
      "text/plain": [
       "<Figure size 640x480 with 1 Axes>"
      ]
     },
     "metadata": {},
     "output_type": "display_data"
    }
   ],
   "source": [
    "plt.plot(loss_newton)"
   ]
  },
  {
   "cell_type": "code",
   "execution_count": 651,
   "id": "99b12dd9",
   "metadata": {},
   "outputs": [],
   "source": [
    "theta_newton = np.copy(theta)"
   ]
  },
  {
   "cell_type": "code",
   "execution_count": 652,
   "id": "974d7833",
   "metadata": {},
   "outputs": [
    {
     "data": {
      "text/plain": [
       "array([16.95408075, 20.49380794,  3.62026943,  8.11117184,  9.40104024,\n",
       "        9.45356453,  9.18932654,  6.13295524, 12.15960526, 20.32663685,\n",
       "        6.88222986,  5.91879824, 17.6076839 ,  5.61882502, 19.63369455,\n",
       "        7.85686819, 13.33871487, 11.61376366,  4.46382562,  8.80255235,\n",
       "       21.28345323,  8.58418805, 15.29601024, -2.30737385,  4.32439293,\n",
       "       22.27075003])"
      ]
     },
     "execution_count": 652,
     "metadata": {},
     "output_type": "execute_result"
    }
   ],
   "source": [
    "theta_newton"
   ]
  },
  {
   "cell_type": "code",
   "execution_count": 653,
   "id": "bac7fe52",
   "metadata": {},
   "outputs": [
    {
     "data": {
      "text/plain": [
       "1.0"
      ]
     },
     "execution_count": 653,
     "metadata": {},
     "output_type": "execute_result"
    }
   ],
   "source": [
    "classification_accuracy(y, X, theta)"
   ]
  },
  {
   "cell_type": "markdown",
   "id": "59a063d3",
   "metadata": {},
   "source": [
    "### Optimization Method without Auxiliary Dual"
   ]
  },
  {
   "cell_type": "code",
   "execution_count": 759,
   "id": "bbca0f7d",
   "metadata": {},
   "outputs": [],
   "source": [
    "num_iters = 1000"
   ]
  },
  {
   "cell_type": "code",
   "execution_count": 772,
   "id": "2dac6a38",
   "metadata": {},
   "outputs": [],
   "source": [
    "tau = 10"
   ]
  },
  {
   "cell_type": "code",
   "execution_count": 773,
   "id": "8c8ba459",
   "metadata": {},
   "outputs": [],
   "source": [
    "def bregman_d4(h, hk):\n",
    "    return 0.25*(np.linalg.norm(h)**4 - np.linalg.norm(hk)**4) * np.dot(np.power(hk, 3), h - hk)"
   ]
  },
  {
   "cell_type": "code",
   "execution_count": 774,
   "id": "c0b23823",
   "metadata": {},
   "outputs": [
    {
     "name": "stdout",
     "output_type": "stream",
     "text": [
      "0.8730897005424096\n"
     ]
    }
   ],
   "source": [
    "h1 = np.ones((5, ))\n",
    "h2 = np.random.rand(5)\n",
    "\n",
    "print(bregman_d4(h1, h2))"
   ]
  },
  {
   "cell_type": "code",
   "execution_count": 784,
   "id": "20b3f10a",
   "metadata": {},
   "outputs": [],
   "source": [
    "L3 = 100 # TODO: change thiS"
   ]
  },
  {
   "cell_type": "code",
   "execution_count": 798,
   "id": "da931c60",
   "metadata": {},
   "outputs": [],
   "source": [
    "def auxiliary_problem(h: np.array, *args) -> float:\n",
    "    hk, omega_grad, H = args\n",
    "    \n",
    "    p1 = np.dot(omega_grad, h - hk)\n",
    "    p2 = (1/tau)*np.dot(H@(h-hk), h-hk)\n",
    "    p3 = tau*L3*bregman_d4(h, hk)\n",
    "    # print(f\"p1: {p1}, p2: {p2}, p3: {p3}\")\n",
    "    \n",
    "    return p1 + 0.5*(tau+1)*(p2 + p3)"
   ]
  },
  {
   "cell_type": "code",
   "execution_count": 799,
   "id": "54c7074e",
   "metadata": {},
   "outputs": [],
   "source": [
    "loss = np.ones((num_iters,), dtype=np.float32)"
   ]
  },
  {
   "cell_type": "code",
   "execution_count": 800,
   "id": "dbca8ef1",
   "metadata": {},
   "outputs": [],
   "source": [
    "grad_norms = np.ones((num_iters,), dtype=np.float32)"
   ]
  },
  {
   "cell_type": "code",
   "execution_count": 801,
   "id": "77072d34",
   "metadata": {},
   "outputs": [],
   "source": [
    "theta = np.copy(start_theta)"
   ]
  },
  {
   "cell_type": "code",
   "execution_count": 802,
   "id": "0255697f",
   "metadata": {},
   "outputs": [
    {
     "data": {
      "text/plain": [
       "0.4770548708033157"
      ]
     },
     "execution_count": 802,
     "metadata": {},
     "output_type": "execute_result"
    }
   ],
   "source": [
    "f(theta)"
   ]
  },
  {
   "cell_type": "code",
   "execution_count": 803,
   "id": "091f1c7e",
   "metadata": {},
   "outputs": [
    {
     "name": "stderr",
     "output_type": "stream",
     "text": [
      "100%|███████████████████████████████████████████████████████████████████████████████| 1000/1000 [16:09<00:00,  1.03it/s]\n"
     ]
    }
   ],
   "source": [
    "for k in tqdm(range(num_iters)):\n",
    "    # Get local information\n",
    "    loss[k] = f(theta)\n",
    "    grad = f_grad(theta)\n",
    "    grad_norms[k] = np.linalg.norm(grad)\n",
    "    H = f_hessian(theta)\n",
    "    \n",
    "    h = np.zeros((d+1,), dtype=np.float32)\n",
    "    \n",
    "    for _ in range(1000):\n",
    "        c = grad + H@h + f_third_order(theta, h)\n",
    "        h = minimize(auxiliary_problem, h, args=(h, c, H)).x\n",
    "        \n",
    "    # print(h)\n",
    "        \n",
    "    theta += h"
   ]
  },
  {
   "cell_type": "code",
   "execution_count": 804,
   "id": "a9adc71f",
   "metadata": {},
   "outputs": [
    {
     "data": {
      "text/plain": [
       "array([4.77054864e-01, 4.72391725e-01, 4.67807472e-01, 4.63299662e-01,\n",
       "       4.58865911e-01, 4.54503745e-01, 4.50211078e-01, 4.45985943e-01,\n",
       "       4.41826344e-01, 4.37730312e-01, 4.33696091e-01, 4.29721862e-01,\n",
       "       4.25805926e-01, 4.21946704e-01, 4.18142557e-01, 4.14392292e-01,\n",
       "       4.10694063e-01, 4.07046795e-01, 4.03449029e-01, 3.99899483e-01,\n",
       "       3.96396905e-01, 3.92940164e-01, 3.89528096e-01, 3.86159599e-01,\n",
       "       3.82833689e-01, 3.79549295e-01, 3.76305461e-01, 3.73101264e-01,\n",
       "       3.69935811e-01, 3.66808236e-01, 3.63717705e-01, 3.60663384e-01,\n",
       "       3.57644528e-01, 3.54660392e-01, 3.51710260e-01, 3.48793417e-01,\n",
       "       3.45909208e-01, 3.43056977e-01, 3.40236127e-01, 3.37446034e-01,\n",
       "       3.34686130e-01, 3.31955850e-01, 3.29254687e-01, 3.26582104e-01,\n",
       "       3.23937595e-01, 3.21320653e-01, 3.18730861e-01, 3.16167742e-01,\n",
       "       3.13630819e-01, 3.11119735e-01, 3.08634043e-01, 3.06173325e-01,\n",
       "       3.03737223e-01, 3.01325381e-01, 2.98937410e-01, 2.96572953e-01,\n",
       "       2.94231683e-01, 2.91913271e-01, 2.89617360e-01, 2.87343711e-01,\n",
       "       2.85091937e-01, 2.82861769e-01, 2.80652940e-01, 2.78465152e-01,\n",
       "       2.76298136e-01, 2.74151623e-01, 2.72025317e-01, 2.69919008e-01,\n",
       "       2.67832428e-01, 2.65765339e-01, 2.63717473e-01, 2.61688620e-01,\n",
       "       2.59678572e-01, 2.57687062e-01, 2.55713850e-01, 2.53758788e-01,\n",
       "       2.51821637e-01, 2.49902189e-01, 2.48000219e-01, 2.46115535e-01,\n",
       "       2.44247913e-01, 2.42397204e-01, 2.40563199e-01, 2.38745704e-01,\n",
       "       2.36944541e-01, 2.35159516e-01, 2.33390436e-01, 2.31637090e-01,\n",
       "       2.29899406e-01, 2.28177145e-01, 2.26470098e-01, 2.24778220e-01,\n",
       "       2.23101228e-01, 2.21439108e-01, 2.19791457e-01, 2.18158334e-01,\n",
       "       2.16539532e-01, 2.14934841e-01, 2.13344112e-01, 2.11767092e-01,\n",
       "       2.10203812e-01, 2.08654031e-01, 2.07117647e-01, 2.05594480e-01,\n",
       "       2.04084396e-01, 2.02587247e-01, 2.01102912e-01, 1.99631229e-01,\n",
       "       1.98172063e-01, 1.96725294e-01, 1.95290774e-01, 1.93868384e-01,\n",
       "       1.92457989e-01, 1.91059455e-01, 1.89672649e-01, 1.88297451e-01,\n",
       "       1.86933726e-01, 1.85581371e-01, 1.84240252e-01, 1.82910234e-01,\n",
       "       1.81591213e-01, 1.80283070e-01, 1.78985700e-01, 1.77698970e-01,\n",
       "       1.76422745e-01, 1.75156936e-01, 1.73901424e-01, 1.72656089e-01,\n",
       "       1.71420842e-01, 1.70195550e-01, 1.68980122e-01, 1.67774439e-01,\n",
       "       1.66578412e-01, 1.65391922e-01, 1.64214864e-01, 1.63047150e-01,\n",
       "       1.61888659e-01, 1.60739303e-01, 1.59598991e-01, 1.58467606e-01,\n",
       "       1.57345057e-01, 1.56231254e-01, 1.55126110e-01, 1.54029503e-01,\n",
       "       1.52941361e-01, 1.51861593e-01, 1.50790095e-01, 1.49726987e-01,\n",
       "       1.48671970e-01, 1.47624969e-01, 1.46585867e-01, 1.45554602e-01,\n",
       "       1.44531086e-01, 1.43515036e-01, 1.42506570e-01, 1.41505584e-01,\n",
       "       1.40512034e-01, 1.39525801e-01, 1.38546839e-01, 1.37575060e-01,\n",
       "       1.36610374e-01, 1.35652706e-01, 1.34701997e-01, 1.33758157e-01,\n",
       "       1.32821098e-01, 1.31890774e-01, 1.30967095e-01, 1.30050004e-01,\n",
       "       1.29139408e-01, 1.28235385e-01, 1.27337724e-01, 1.26446366e-01,\n",
       "       1.25561222e-01, 1.24682240e-01, 1.23809353e-01, 1.22942492e-01,\n",
       "       1.22081600e-01, 1.21226601e-01, 1.20377444e-01, 1.19534060e-01,\n",
       "       1.18696392e-01, 1.17864370e-01, 1.17037952e-01, 1.16217062e-01,\n",
       "       1.15401655e-01, 1.14591666e-01, 1.13787033e-01, 1.12987719e-01,\n",
       "       1.12193651e-01, 1.11404784e-01, 1.10621057e-01, 1.09842353e-01,\n",
       "       1.09068692e-01, 1.08300015e-01, 1.07536279e-01, 1.06777444e-01,\n",
       "       1.06023438e-01, 1.05274230e-01, 1.04529761e-01, 1.03789993e-01,\n",
       "       1.03054874e-01, 1.02324359e-01, 1.01598404e-01, 1.00876972e-01,\n",
       "       1.00160010e-01, 9.94474888e-02, 9.87393484e-02, 9.80355591e-02,\n",
       "       9.73361805e-02, 9.66409445e-02, 9.59499329e-02, 9.52631086e-02,\n",
       "       9.45804268e-02, 9.39018577e-02, 9.32273567e-02, 9.25568938e-02,\n",
       "       9.18904245e-02, 9.12279189e-02, 9.05693471e-02, 8.99146870e-02,\n",
       "       8.92638862e-02, 8.86169150e-02, 8.79737213e-02, 8.73342827e-02,\n",
       "       8.66985843e-02, 8.60665813e-02, 8.54382515e-02, 8.48135650e-02,\n",
       "       8.41924697e-02, 8.35749432e-02, 8.29609632e-02, 8.23505074e-02,\n",
       "       8.17435384e-02, 8.11400041e-02, 8.05398896e-02, 7.99431801e-02,\n",
       "       7.93499053e-02, 7.87599981e-02, 7.81734213e-02, 7.75901526e-02,\n",
       "       7.70101249e-02, 7.64334202e-02, 7.58599639e-02, 7.52897263e-02,\n",
       "       7.47226104e-02, 7.41586983e-02, 7.35979304e-02, 7.30402917e-02,\n",
       "       7.24858418e-02, 7.19344616e-02, 7.13861585e-02, 7.08409250e-02,\n",
       "       7.02987164e-02, 6.97595626e-02, 6.92234412e-02, 6.86902776e-02,\n",
       "       6.81600124e-02, 6.76326975e-02, 6.71083927e-02, 6.65869415e-02,\n",
       "       6.60683736e-02, 6.55527487e-02, 6.50401264e-02, 6.45304918e-02,\n",
       "       6.40234575e-02, 6.35192543e-02, 6.30178899e-02, 6.25193566e-02,\n",
       "       6.20236099e-02, 6.15306906e-02, 6.10405207e-02, 6.05530664e-02,\n",
       "       6.00684956e-02, 5.95865995e-02, 5.91074489e-02, 5.86309992e-02,\n",
       "       5.81572577e-02, 5.76862060e-02, 5.72179370e-02, 5.67523576e-02,\n",
       "       5.62894754e-02, 5.58293052e-02, 5.53717278e-02, 5.49168624e-02,\n",
       "       5.44646494e-02, 5.40150814e-02, 5.35681695e-02, 5.31239025e-02,\n",
       "       5.26822880e-02, 5.22433147e-02, 5.18069789e-02, 5.13732694e-02,\n",
       "       5.09421490e-02, 5.05136549e-02, 5.00877686e-02, 4.96644899e-02,\n",
       "       4.92438152e-02, 4.88257408e-02, 4.84102629e-02, 4.79973778e-02,\n",
       "       4.75870855e-02, 4.71793786e-02, 4.67742719e-02, 4.63717505e-02,\n",
       "       4.59718071e-02, 4.55744490e-02, 4.51796725e-02, 4.47874777e-02,\n",
       "       4.43978570e-02, 4.40108180e-02, 4.36263494e-02, 4.32444438e-02,\n",
       "       4.28651012e-02, 4.24883217e-02, 4.21140939e-02, 4.17424217e-02,\n",
       "       4.13733162e-02, 4.10067402e-02, 4.06427458e-02, 4.02812362e-02,\n",
       "       3.99223119e-02, 3.95659171e-02, 3.92120443e-02, 3.88606116e-02,\n",
       "       3.85117382e-02, 3.81653830e-02, 3.78215425e-02, 3.74802798e-02,\n",
       "       3.71414572e-02, 3.68051343e-02, 3.64713669e-02, 3.61400843e-02,\n",
       "       3.58112827e-02, 3.54849622e-02, 3.51612605e-02, 3.48400213e-02,\n",
       "       3.45210172e-02, 3.42044681e-02, 3.38903666e-02, 3.35787013e-02,\n",
       "       3.32694687e-02, 3.29626575e-02, 3.26582566e-02, 3.23562659e-02,\n",
       "       3.20566706e-02, 3.17595042e-02, 3.14647220e-02, 3.11723072e-02,\n",
       "       3.08822710e-02, 3.05945873e-02, 3.03092506e-02, 3.00262477e-02,\n",
       "       2.97455695e-02, 2.94672083e-02, 2.91911550e-02, 2.89173946e-02,\n",
       "       2.86459215e-02, 2.83767227e-02, 2.81097870e-02, 2.78451033e-02,\n",
       "       2.75826678e-02, 2.73224618e-02, 2.70644724e-02, 2.68086903e-02,\n",
       "       2.65551880e-02, 2.63038632e-02, 2.60547046e-02, 2.58076992e-02,\n",
       "       2.55628340e-02, 2.53200997e-02, 2.50794832e-02, 2.48409733e-02,\n",
       "       2.46045534e-02, 2.43702307e-02, 2.41379756e-02, 2.39077732e-02,\n",
       "       2.36796103e-02, 2.34534778e-02, 2.32293569e-02, 2.30072383e-02,\n",
       "       2.27872543e-02, 2.25692429e-02, 2.23531947e-02, 2.21390929e-02,\n",
       "       2.19269246e-02, 2.17166785e-02, 2.15083417e-02, 2.13019010e-02,\n",
       "       2.10973397e-02, 2.08946485e-02, 2.06938107e-02, 2.04948150e-02,\n",
       "       2.02976484e-02, 2.01022942e-02, 1.99087411e-02, 1.97169762e-02,\n",
       "       1.95269883e-02, 1.93387605e-02, 1.91522278e-02, 1.89674273e-02,\n",
       "       1.87843461e-02, 1.86029747e-02, 1.84232946e-02, 1.82452947e-02,\n",
       "       1.80689618e-02, 1.78947635e-02, 1.77221913e-02, 1.75512340e-02,\n",
       "       1.73818767e-02, 1.72141083e-02, 1.70474779e-02, 1.68824177e-02,\n",
       "       1.67193506e-02, 1.65578220e-02, 1.63974166e-02, 1.62389241e-02,\n",
       "       1.60819292e-02, 1.59264207e-02, 1.57723837e-02, 1.56198079e-02,\n",
       "       1.54686794e-02, 1.53189870e-02, 1.51707195e-02, 1.50238629e-02,\n",
       "       1.48784062e-02, 1.47343362e-02, 1.45916408e-02, 1.44503079e-02,\n",
       "       1.43103264e-02, 1.41716609e-02, 1.40343225e-02, 1.38982981e-02,\n",
       "       1.37635767e-02, 1.36301462e-02, 1.34980520e-02, 1.33672226e-02,\n",
       "       1.32376486e-02, 1.31093180e-02, 1.29822278e-02, 1.28563596e-02,\n",
       "       1.27317011e-02, 1.26081919e-02, 1.24858720e-02, 1.23647312e-02,\n",
       "       1.22447582e-02, 1.21259540e-02, 1.20082945e-02, 1.18917683e-02,\n",
       "       1.17763663e-02, 1.16620762e-02, 1.15488889e-02, 1.14367940e-02,\n",
       "       1.13257943e-02, 1.12158675e-02, 1.11070024e-02, 1.09991906e-02,\n",
       "       1.08924201e-02, 1.07866824e-02, 1.06819673e-02, 1.05782514e-02,\n",
       "       1.04755415e-02, 1.03738271e-02, 1.02730738e-02, 1.01732966e-02,\n",
       "       1.00744842e-02, 9.97662917e-03, 9.87973064e-03, 9.78377182e-03,\n",
       "       9.68874153e-03, 9.59463324e-03, 9.50143673e-03, 9.40911472e-03,\n",
       "       9.31768771e-03, 9.22714919e-03, 9.13748983e-03, 9.04869847e-03,\n",
       "       8.96076858e-03, 8.87369178e-03, 8.78745876e-03, 8.70206207e-03,\n",
       "       8.61750171e-03, 8.53376277e-03, 8.45083594e-03, 8.36869981e-03,\n",
       "       8.28735996e-03, 8.20680894e-03, 8.12704023e-03, 8.04804359e-03,\n",
       "       7.96981994e-03, 7.89235439e-03, 7.81564135e-03, 7.73967244e-03,\n",
       "       7.66460039e-03, 7.59025896e-03, 7.51664117e-03, 7.44370092e-03,\n",
       "       7.37146987e-03, 7.29994057e-03, 7.22910650e-03, 7.15883868e-03,\n",
       "       7.08925258e-03, 7.02047208e-03, 6.95236120e-03, 6.88491296e-03,\n",
       "       6.81807892e-03, 6.75189774e-03, 6.68636290e-03, 6.62146742e-03,\n",
       "       6.55720476e-03, 6.49356889e-03, 6.43045222e-03, 6.36799028e-03,\n",
       "       6.30612811e-03, 6.24493975e-03, 6.18434977e-03, 6.12435117e-03,\n",
       "       6.06493792e-03, 6.00606203e-03, 5.94780734e-03, 5.89012168e-03,\n",
       "       5.83295571e-03, 5.77634759e-03, 5.72029175e-03, 5.66478213e-03,\n",
       "       5.60981361e-03, 5.55538759e-03, 5.50149195e-03, 5.44812204e-03,\n",
       "       5.39527228e-03, 5.34293894e-03, 5.29111596e-03, 5.23976004e-03,\n",
       "       5.18890470e-03, 5.13858860e-03, 5.08876378e-03, 5.03938599e-03,\n",
       "       4.99049015e-03, 4.94207116e-03, 4.89412481e-03, 4.84664738e-03,\n",
       "       4.79963375e-03, 4.75307927e-03, 4.70698019e-03, 4.66133188e-03,\n",
       "       4.61612595e-03, 4.57136659e-03, 4.52704588e-03, 4.48315963e-03,\n",
       "       4.43967618e-03, 4.39662021e-03, 4.35398752e-03, 4.31194669e-03,\n",
       "       4.27031424e-03, 4.22908179e-03, 4.18825122e-03, 4.14782949e-03,\n",
       "       4.10780823e-03, 4.06817673e-03, 4.02891543e-03, 3.99003550e-03,\n",
       "       3.95153416e-03, 3.91340675e-03, 3.87564092e-03, 3.83824715e-03,\n",
       "       3.80121614e-03, 3.76454415e-03, 3.72822839e-03, 3.69226513e-03,\n",
       "       3.65664577e-03, 3.62137146e-03, 3.58643872e-03, 3.55184427e-03,\n",
       "       3.51758464e-03, 3.48365726e-03, 3.45005421e-03, 3.41677596e-03,\n",
       "       3.38381971e-03, 3.35118244e-03, 3.31886089e-03, 3.28685041e-03,\n",
       "       3.25514912e-03, 3.22375447e-03, 3.19266459e-03, 3.16187739e-03,\n",
       "       3.13139707e-03, 3.10121244e-03, 3.07132048e-03, 3.04171746e-03,\n",
       "       3.01240128e-03, 2.98336963e-03, 2.95461970e-03, 2.92614941e-03,\n",
       "       2.89795618e-03, 2.87003838e-03, 2.84239440e-03, 2.81501608e-03,\n",
       "       2.78790132e-03, 2.76105641e-03, 2.73447414e-03, 2.70813913e-03,\n",
       "       2.68205791e-03, 2.65623420e-03, 2.63068429e-03, 2.60538259e-03,\n",
       "       2.58029415e-03, 2.55545205e-03, 2.53087329e-03, 2.50652106e-03,\n",
       "       2.48240517e-03, 2.45852396e-03, 2.43487488e-03, 2.41145445e-03,\n",
       "       2.38825963e-03, 2.36528786e-03, 2.34253914e-03, 2.32001464e-03,\n",
       "       2.29770946e-03, 2.27562129e-03, 2.25374755e-03, 2.23207171e-03,\n",
       "       2.21060799e-03, 2.18935241e-03, 2.16830382e-03, 2.14746105e-03,\n",
       "       2.12680129e-03, 2.10634270e-03, 2.08608340e-03, 2.06602132e-03,\n",
       "       2.04615481e-03, 2.02648249e-03, 2.00699782e-03, 1.98770408e-03,\n",
       "       1.96859916e-03, 1.94974011e-03, 1.93106302e-03, 1.91256660e-03,\n",
       "       1.89424830e-03, 1.87613931e-03, 1.85920577e-03, 1.84140925e-03,\n",
       "       1.82378490e-03, 1.80633075e-03, 1.78904564e-03, 1.77192700e-03,\n",
       "       1.75497425e-03, 1.73914596e-03, 1.72251766e-03, 1.70608994e-03,\n",
       "       1.68978760e-03, 1.67363684e-03, 1.65764685e-03, 1.64182042e-03,\n",
       "       1.62615348e-03, 1.61145069e-03, 1.59606407e-03, 1.58163870e-03,\n",
       "       1.56651810e-03, 1.55154581e-03, 1.53671973e-03, 1.52203825e-03,\n",
       "       1.50831719e-03, 1.49472489e-03, 1.48122432e-03, 1.46711397e-03,\n",
       "       1.45388965e-03, 1.44003797e-03, 1.42630748e-03, 1.41270389e-03,\n",
       "       1.39920961e-03, 1.38636760e-03, 1.37387542e-03, 1.36079558e-03,\n",
       "       1.34783529e-03, 1.33547152e-03, 1.32322230e-03, 1.31108402e-03,\n",
       "       1.29861454e-03, 1.28626206e-03, 1.27400411e-03, 1.26194907e-03,\n",
       "       1.25037530e-03, 1.23885332e-03, 1.22708245e-03, 1.21542590e-03,\n",
       "       1.20393909e-03, 1.19256484e-03, 1.18162646e-03, 1.17075199e-03,\n",
       "       1.15970848e-03, 1.14876707e-03, 1.13817945e-03, 1.12770929e-03,\n",
       "       1.11738429e-03, 1.10712089e-03, 1.09711196e-03, 1.08704041e-03,\n",
       "       1.07705651e-03, 1.06716703e-03, 1.05751236e-03, 1.04794477e-03,\n",
       "       1.03846344e-03, 1.02906744e-03, 1.01974618e-03, 1.01052702e-03,\n",
       "       1.00138970e-03, 9.92333633e-04, 9.83358943e-04, 9.74465103e-04,\n",
       "       9.65650775e-04, 9.56915319e-04, 9.48268455e-04, 9.39699006e-04,\n",
       "       9.31204937e-04, 9.22785315e-04, 9.14441131e-04, 9.06181114e-04,\n",
       "       8.97994265e-04, 8.89884948e-04, 8.81846703e-04, 8.73879530e-04,\n",
       "       8.65979877e-04, 8.58173997e-04, 8.50447221e-04, 8.42787034e-04,\n",
       "       8.35204264e-04, 8.27687443e-04, 8.20239307e-04, 8.12856655e-04,\n",
       "       8.05539195e-04, 7.98288384e-04, 7.91101018e-04, 7.83992058e-04,\n",
       "       7.76937930e-04, 7.69943406e-04, 7.63010117e-04, 7.56139110e-04,\n",
       "       7.49328348e-04, 7.42545992e-04, 7.35854323e-04, 7.29235064e-04,\n",
       "       7.22651661e-04, 7.16139388e-04, 7.09686254e-04, 7.03291851e-04,\n",
       "       6.96953794e-04, 6.90667424e-04, 6.84450846e-04, 6.78270648e-04,\n",
       "       6.72143127e-04, 6.66073698e-04, 6.60064281e-04, 6.54112198e-04,\n",
       "       6.48215588e-04, 6.42372412e-04, 6.36580226e-04, 6.30851078e-04,\n",
       "       6.25162676e-04, 6.19527244e-04, 6.13949320e-04, 6.08427566e-04,\n",
       "       6.02955755e-04, 5.97532082e-04, 5.92156430e-04, 5.86947252e-04,\n",
       "       5.81783825e-04, 5.76665450e-04, 5.71591372e-04, 5.66558330e-04,\n",
       "       5.61567198e-04, 5.56617801e-04, 5.51721780e-04, 5.46867843e-04,\n",
       "       5.42055815e-04, 5.37291577e-04, 5.32568432e-04, 5.27885917e-04,\n",
       "       5.23243856e-04, 5.18619549e-04, 5.14035462e-04, 5.09495207e-04,\n",
       "       5.04990807e-04, 5.00527152e-04, 4.96101449e-04, 4.91732731e-04,\n",
       "       4.87396552e-04, 4.83091280e-04, 4.78821894e-04, 4.74588509e-04,\n",
       "       4.70391155e-04, 4.66232799e-04, 4.62110125e-04, 4.58023016e-04,\n",
       "       4.53972403e-04, 4.50251304e-04, 4.46555583e-04, 4.42888471e-04,\n",
       "       4.39262367e-04, 4.35678870e-04, 4.32121567e-04, 4.28581669e-04,\n",
       "       4.25087404e-04, 4.21625358e-04, 4.18197276e-04, 4.14789392e-04,\n",
       "       4.11394809e-04, 4.08041087e-04, 4.04716091e-04, 4.01416037e-04,\n",
       "       3.98139149e-04, 3.94884759e-04, 3.91652924e-04, 3.88443703e-04,\n",
       "       3.85257241e-04, 3.82092519e-04, 3.78950033e-04, 3.75829783e-04,\n",
       "       3.72733659e-04, 3.69660906e-04, 3.66610999e-04, 3.63583444e-04,\n",
       "       3.60575272e-04, 3.57589131e-04, 3.54625314e-04, 3.51683644e-04,\n",
       "       3.48764064e-04, 3.45866545e-04, 3.42989806e-04, 3.40132305e-04,\n",
       "       3.37294274e-04, 3.34476237e-04, 3.31668358e-04, 3.28880880e-04,\n",
       "       3.26117035e-04, 3.23334098e-04, 3.20591294e-04, 3.17862345e-04,\n",
       "       3.15148500e-04, 3.12448741e-04, 3.09790339e-04, 3.07152717e-04,\n",
       "       3.04534973e-04, 3.01935273e-04, 2.99354026e-04, 2.96791550e-04,\n",
       "       2.94245692e-04, 2.91716482e-04, 2.89201591e-04, 2.86722498e-04,\n",
       "       2.84261885e-04, 2.81820889e-04, 2.79399974e-04, 2.76995474e-04,\n",
       "       2.74607737e-04, 2.72237055e-04, 2.69883691e-04, 2.67547905e-04,\n",
       "       2.65228038e-04, 2.62940099e-04, 2.60670029e-04, 2.58417887e-04,\n",
       "       2.56183703e-04, 2.53967388e-04, 2.51768826e-04, 2.49589270e-04,\n",
       "       2.47425196e-04, 2.45276111e-04, 2.43142727e-04, 2.41024201e-04,\n",
       "       2.38931592e-04, 2.36855893e-04, 2.34797451e-04, 2.32753169e-04,\n",
       "       2.30714431e-04, 2.28696823e-04, 2.26699660e-04, 2.24722695e-04,\n",
       "       2.22766947e-04, 2.20830829e-04, 2.18913439e-04, 2.17014182e-04,\n",
       "       2.15133012e-04, 2.13269872e-04, 2.11424020e-04, 2.09576057e-04,\n",
       "       2.07757534e-04, 2.05960489e-04, 2.04185708e-04, 2.02427967e-04,\n",
       "       2.00684226e-04, 1.98953203e-04, 1.97237474e-04, 1.95545232e-04,\n",
       "       1.93870714e-04, 1.92212116e-04, 1.90568579e-04, 1.88939637e-04,\n",
       "       1.87324957e-04, 1.85724683e-04, 1.84138538e-04, 1.82566248e-04,\n",
       "       1.80992109e-04, 1.79440947e-04, 1.78214643e-04, 1.76990259e-04,\n",
       "       1.75774388e-04, 1.74564935e-04, 1.73324806e-04, 1.72090251e-04,\n",
       "       1.72016458e-04, 1.71943175e-04, 1.71870401e-04, 1.71798136e-04,\n",
       "       1.71726366e-04, 1.71655076e-04, 1.71584266e-04, 1.71513922e-04,\n",
       "       1.71444044e-04, 1.71374602e-04, 1.71305612e-04, 1.71237072e-04,\n",
       "       1.71168955e-04, 1.71101259e-04, 1.71033986e-04, 1.70967120e-04,\n",
       "       1.70881220e-04, 1.70795945e-04, 1.70711282e-04, 1.70627231e-04,\n",
       "       1.70543761e-04, 1.70460888e-04, 1.70378567e-04, 1.70296815e-04,\n",
       "       1.70215615e-04, 1.70134954e-04, 1.70054816e-04, 1.69975203e-04,\n",
       "       1.69896099e-04, 1.69817489e-04, 1.69739389e-04, 1.69661769e-04,\n",
       "       1.69584615e-04, 1.69507926e-04, 1.69431718e-04, 1.69355946e-04,\n",
       "       1.69280625e-04, 1.69205727e-04, 1.69131279e-04, 1.69057239e-04,\n",
       "       1.68983621e-04, 1.68910410e-04, 1.68837607e-04, 1.68765197e-04,\n",
       "       1.68693165e-04, 1.68621526e-04, 1.68550265e-04, 1.68479382e-04,\n",
       "       1.68408864e-04, 1.68338694e-04, 1.68268889e-04, 1.68199433e-04,\n",
       "       1.68130311e-04, 1.68061539e-04, 1.67993087e-04, 1.67924984e-04,\n",
       "       1.67857186e-04, 1.67789709e-04, 1.67722552e-04, 1.67655715e-04,\n",
       "       1.67589169e-04, 1.67522929e-04, 1.67456979e-04, 1.67391336e-04,\n",
       "       1.67325969e-04, 1.67260892e-04, 1.67196093e-04, 1.67131569e-04,\n",
       "       1.67067308e-04, 1.67003338e-04, 1.66939615e-04, 1.66876169e-04,\n",
       "       1.66812970e-04, 1.66750018e-04, 1.66687329e-04, 1.66624886e-04,\n",
       "       1.66562691e-04, 1.66500729e-04, 1.66439015e-04, 1.66377533e-04,\n",
       "       1.66316284e-04, 1.66255268e-04, 1.66194470e-04, 1.66133890e-04,\n",
       "       1.66073543e-04, 1.66013415e-04, 1.65953490e-04, 1.65893784e-04,\n",
       "       1.65834295e-04, 1.65774996e-04, 1.65715916e-04, 1.65657038e-04],\n",
       "      dtype=float32)"
      ]
     },
     "execution_count": 804,
     "metadata": {},
     "output_type": "execute_result"
    }
   ],
   "source": [
    "loss"
   ]
  },
  {
   "cell_type": "code",
   "execution_count": 805,
   "id": "a2de20ed",
   "metadata": {},
   "outputs": [
    {
     "data": {
      "text/plain": [
       "[<matplotlib.lines.Line2D at 0x7f505144b400>]"
      ]
     },
     "execution_count": 805,
     "metadata": {},
     "output_type": "execute_result"
    },
    {
     "data": {
      "image/png": "[encoded data removed]",
      "text/plain": [
       "<Figure size 640x480 with 1 Axes>"
      ]
     },
     "metadata": {},
     "output_type": "display_data"
    }
   ],
   "source": [
    "plt.plot(loss)"
   ]
  },
  {
   "cell_type": "code",
   "execution_count": 806,
   "id": "1f705fa4",
   "metadata": {},
   "outputs": [],
   "source": [
    "theta_hyperfast = np.copy(theta)"
   ]
  },
  {
   "cell_type": "code",
   "execution_count": 807,
   "id": "58d15cfc",
   "metadata": {},
   "outputs": [
    {
     "data": {
      "text/plain": [
       "1.0"
      ]
     },
     "execution_count": 807,
     "metadata": {},
     "output_type": "execute_result"
    }
   ],
   "source": [
    "classification_accuracy(y, X, theta)"
   ]
  },
  {
   "cell_type": "markdown",
   "id": "020cc8b4",
   "metadata": {},
   "source": [
    "### Optimization Method with Auxiliary Dual"
   ]
  },
  {
   "cell_type": "code",
   "execution_count": 753,
   "id": "70a018e0",
   "metadata": {},
   "outputs": [],
   "source": [
    "loss_dual = np.ones((num_iters,), dtype=np.float32)"
   ]
  },
  {
   "cell_type": "code",
   "execution_count": 638,
   "id": "8163ed68",
   "metadata": {},
   "outputs": [],
   "source": [
    "grad_norms_dual = np.ones((num_iters,), dtype=np.float32)"
   ]
  },
  {
   "cell_type": "code",
   "execution_count": 639,
   "id": "b78a3e6d",
   "metadata": {},
   "outputs": [],
   "source": [
    "theta = np.copy(start_theta)"
   ]
  },
  {
   "cell_type": "code",
   "execution_count": 640,
   "id": "1fac5936",
   "metadata": {},
   "outputs": [],
   "source": [
    "def dual_auxiliary(tau: float, *args) -> float:\n",
    "    gamma, T, c_tilda = args\n",
    "    inv_part = np.linalg.lstsq(gamma*tau*np.eye(T.shape[0]), c_tilda, rcond=None)[0]\n",
    "    return -0.5*tau*tau + 0.5*np.dot(inv_part, c_tilda)"
   ]
  },
  {
   "cell_type": "code",
   "execution_count": 720,
   "id": "acf7447d",
   "metadata": {},
   "outputs": [],
   "source": [
    "for k in tqdm(range(num_iters)):\n",
    "    # Get local information\n",
    "    loss_dual[k] = f(theta)\n",
    "    grad = f_grad(theta)\n",
    "    grad_norms_dual[k] = np.linalg.norm(grad)\n",
    "    H = f_hessian(theta)\n",
    "        \n",
    "    h = np.zeros((d+1,), dtype=np.float32)\n",
    "    for _ in range(10):\n",
    "        c = grad + H@h + f_third_order(theta, h)\n",
    "        Lambda, U = np.linalg.eig(H)\n",
    "#         print(\"Lambda:\")\n",
    "#         print(Lambda)\n",
    "#         print(\"U:\")\n",
    "#         print(U)\n",
    "        c_tilda = U.T @ c\n",
    "        \n",
    "        best_tau = minimize_scalar(dual_auxiliary, bounds=[0, 100], args=(gamma, Lambda, c_tilda), options={'disp': False}).x\n",
    "        print(best_tau)\n",
    "        h = np.linalg.lstsq((gamma*best_tau*np.eye(Lambda.shape[0]) + Lambda)@U.T, -c_tilda, rcond=None)[0]\n",
    "        \n",
    "    theta += h"
   ]
  },
  {
   "cell_type": "markdown",
   "id": "8883757e",
   "metadata": {},
   "source": [
    "### Comparison"
   ]
  },
  {
   "cell_type": "code",
   "execution_count": 808,
   "id": "cb922bfb",
   "metadata": {},
   "outputs": [
    {
     "name": "stdout",
     "output_type": "stream",
     "text": [
      "11.665396795314301\n"
     ]
    }
   ],
   "source": [
    "print(np.linalg.norm(theta_newton - theta_hyperfast))"
   ]
  },
  {
   "cell_type": "code",
   "execution_count": 809,
   "id": "204e8cd3",
   "metadata": {},
   "outputs": [
    {
     "data": {
      "text/plain": [
       "array([16.95408075, 20.49380794,  3.62026943,  8.11117184,  9.40104024,\n",
       "        9.45356453,  9.18932654,  6.13295524, 12.15960526, 20.32663685,\n",
       "        6.88222986,  5.91879824, 17.6076839 ,  5.61882502, 19.63369455,\n",
       "        7.85686819, 13.33871487, 11.61376366,  4.46382562,  8.80255235,\n",
       "       21.28345323,  8.58418805, 15.29601024, -2.30737385,  4.32439293,\n",
       "       22.27075003])"
      ]
     },
     "execution_count": 809,
     "metadata": {},
     "output_type": "execute_result"
    }
   ],
   "source": [
    "theta_newton"
   ]
  },
  {
   "cell_type": "code",
   "execution_count": 810,
   "id": "5f08a45f",
   "metadata": {},
   "outputs": [
    {
     "data": {
      "text/plain": [
       "array([13.22327131, 17.51644506,  3.16277694,  6.53742599,  7.20662546,\n",
       "        8.31409093,  7.16556605,  4.51879927, 10.39058555, 16.86719176,\n",
       "        6.12952358,  4.73101407, 14.23914333,  5.3836945 , 15.65304985,\n",
       "        7.06778759, 11.91471109,  9.8502661 ,  4.56895228,  5.9589487 ,\n",
       "       17.68003263,  6.10048002, 13.3874346 , -1.01731385,  3.95331025,\n",
       "       18.39532916])"
      ]
     },
     "execution_count": 810,
     "metadata": {},
     "output_type": "execute_result"
    }
   ],
   "source": [
    "theta_hyperfast"
   ]
  },
  {
   "cell_type": "code",
   "execution_count": 811,
   "id": "caa711dd",
   "metadata": {},
   "outputs": [
    {
     "data": {
      "text/plain": [
       "Text(0, 0.5, 'Loss')"
      ]
     },
     "execution_count": 811,
     "metadata": {},
     "output_type": "execute_result"
    },
    {
     "data": {
      "image/png": "[encoded data removed]",
      "text/plain": [
       "<Figure size 640x480 with 1 Axes>"
      ]
     },
     "metadata": {},
     "output_type": "display_data"
    }
   ],
   "source": [
    "plt.semilogy(loss, label=\"Hyperfast\")\n",
    "plt.semilogy(loss_newton, label=\"Newton\")\n",
    "plt.legend()\n",
    "plt.xlabel(\"Iterations\")\n",
    "plt.ylabel(\"Loss\")"
   ]
  },
  {
   "cell_type": "code",
   "execution_count": 812,
   "id": "4d37a07d",
   "metadata": {},
   "outputs": [
    {
     "data": {
      "text/plain": [
       "Text(0, 0.5, 'Gradient Norm')"
      ]
     },
     "execution_count": 812,
     "metadata": {},
     "output_type": "execute_result"
    },
    {
     "data": {
      "image/png": "[encoded data removed]",
      "text/plain": [
       "<Figure size 640x480 with 1 Axes>"
      ]
     },
     "metadata": {},
     "output_type": "display_data"
    }
   ],
   "source": [
    "plt.semilogy(grad_norms, label=\"Hyperfast\")\n",
    "plt.semilogy(grad_norms_newton, label=\"Newton\")\n",
    "plt.legend()\n",
    "plt.xlabel(\"Iterations\")\n",
    "plt.ylabel(\"Gradient Norm\")"
   ]
  },
  {
   "cell_type": "code",
   "execution_count": null,
   "id": "eecf9522",
   "metadata": {},
   "outputs": [],
   "source": []
  },
  {
   "cell_type": "code",
   "execution_count": null,
   "id": "aa1c17af",
   "metadata": {},
   "outputs": [],
   "source": []
  },
  {
   "cell_type": "code",
   "execution_count": 10,
   "id": "138c57ce",
   "metadata": {},
   "outputs": [],
   "source": [
    "cpu_times = [0.111546755, 0.074084759, 22.17986989, 39.4575727, 50.16345143, 82.01188707]"
   ]
  },
  {
   "cell_type": "code",
   "execution_count": 11,
   "id": "645c352b",
   "metadata": {},
   "outputs": [],
   "source": [
    "gpu_times = [0.091855764, 0.07700634, 2.608466148, 6.264713049, 5.868836164, 6.776931047]"
   ]
  },
  {
   "cell_type": "code",
   "execution_count": 12,
   "id": "32ab6868",
   "metadata": {},
   "outputs": [
    {
     "data": {
      "text/plain": [
       "<matplotlib.legend.Legend at 0x7fdad10aa410>"
      ]
     },
     "execution_count": 12,
     "metadata": {},
     "output_type": "execute_result"
    },
    {
     "data": {
      "image/png": "[encoded data removed]",
      "text/plain": [
       "<Figure size 640x480 with 1 Axes>"
      ]
     },
     "metadata": {},
     "output_type": "display_data"
    }
   ],
   "source": [
    "plt.bar(['GD', 'AGD', 'Newton', 'Slow CN', 'Fast CN', 'Acc. Newton'], cpu_times, label=\"No GPU\")\n",
    "plt.bar(['GD', 'AGD', 'Newton', 'Slow CN', 'Fast CN', 'Acc. Newton'], gpu_times, label=\"GPU\")\n",
    "plt.ylabel(\"Runtime (seconds)\")\n",
    "plt.title(\"100 Iterations on 'mushrooms' LIBSVM dataset\")\n",
    "plt.legend()"
   ]
  },
  {
   "cell_type": "code",
   "execution_count": 15,
   "id": "922c47bc",
   "metadata": {},
   "outputs": [
    {
     "data": {
      "text/plain": [
       "array([ 1.21436859,  0.96206051,  8.50303153,  6.29838468,  8.54742747,\n",
       "       12.10162631])"
      ]
     },
     "execution_count": 15,
     "metadata": {},
     "output_type": "execute_result"
    }
   ],
   "source": [
    "np.array(cpu_times) / np.array(gpu_times)"
   ]
  },
  {
   "cell_type": "code",
   "execution_count": null,
   "id": "ff99cf16",
   "metadata": {},
   "outputs": [],
   "source": []
  }
 ],
 "metadata": {
  "kernelspec": {
   "display_name": "ml",
   "language": "python",
   "name": "ml"
  },
  "language_info": {
   "codemirror_mode": {
    "name": "ipython",
    "version": 3
   },
   "file_extension": ".py",
   "mimetype": "text/x-python",
   "name": "python",
   "nbconvert_exporter": "python",
   "pygments_lexer": "ipython3",
   "version": "3.10.9"
  }
 },
 "nbformat": 4,
 "nbformat_minor": 5
}
